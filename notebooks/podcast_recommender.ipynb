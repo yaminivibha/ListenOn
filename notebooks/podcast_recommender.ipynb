{
 "cells": [
  {
   "cell_type": "code",
   "execution_count": 2,
   "source": [
    "import re\n",
    "import nltk\n",
    "import pandas as pd\n",
    "import numpy as np\n",
    "\n",
    "from nltk.tokenize import RegexpTokenizer\n",
    "from stop_words import get_stop_words\n",
    "from nltk.stem import WordNetLemmatizer\n",
    "\n",
    "nltk.download('punkt')\n",
    "nltk.download('wordnet')"
   ],
   "outputs": [
    {
     "output_type": "stream",
     "name": "stderr",
     "text": [
      "[nltk_data] Downloading package punkt to /Users/yamini/nltk_data...\n",
      "[nltk_data]   Package punkt is already up-to-date!\n",
      "[nltk_data] Downloading package wordnet to /Users/yamini/nltk_data...\n",
      "[nltk_data]   Package wordnet is already up-to-date!\n"
     ]
    }
   ],
   "metadata": {}
  },
  {
   "cell_type": "markdown",
   "source": [
    "# Data Pre-Processing"
   ],
   "metadata": {}
  },
  {
   "cell_type": "code",
   "execution_count": 29,
   "source": [
    "podcasts_df = pd.read_pickle('../data/pickle_files/english_podcasts_detailed_cleaned.pkl')"
   ],
   "outputs": [],
   "metadata": {}
  },
  {
   "cell_type": "code",
   "execution_count": 30,
   "source": [
    "podcasts_df['text'] = podcasts_df[['title', 'producer', 'genre', 'description', 'episode_titles', 'episode_descriptions']].apply(lambda x: ' '.join(x), axis=1)\n",
    "podcasts_df = podcasts_df.drop(columns=['genre', 'description', 'num_episodes', 'rating', 'num_reviews', 'link', 'episode_titles', 'episode_descriptions'])\n",
    "podcasts_df['ID'] = list(range(podcasts_df.shape[0]))"
   ],
   "outputs": [],
   "metadata": {}
  },
  {
   "cell_type": "code",
   "execution_count": 34,
   "source": [
    "# utils\n",
    "stop = get_stop_words('en')\n",
    "stop = [re.sub(r'([^\\s\\w]|_)+', '', x) for x in stop]\n",
    "\n",
    "tokenizer = RegexpTokenizer(r'\\w+')"
   ],
   "outputs": [],
   "metadata": {}
  },
  {
   "cell_type": "code",
   "execution_count": 35,
   "source": [
    "def remove_stop(text, stop):\n",
    "    return [word for word in text if word not in stop ]\n",
    "\n",
    "def lemmatize(text, l_stemmer):\n",
    "    return [l_stemmer.lemmatize(word) for word in text]"
   ],
   "outputs": [],
   "metadata": {}
  },
  {
   "cell_type": "code",
   "execution_count": 32,
   "source": [
    "def preprocess_text(text):\n",
    "    # remove mixed alphanumeric\n",
    "    text = re.sub(r\"\"\"(?x) \\b(?=\\w*\\d)\\w+\\s*\"\"\",\"\", text)\n",
    "    re.sub(r\"http\\S+\", \"\", text)\n",
    "    text = re.sub(r'([^\\s\\w]|_)+', '', text)\n",
    "    text = tokenizer.tokenize(text.lower())\n",
    "    text = remove_stop(text, stop)\n",
    "    text = lemmatize(text, WordNetLemmatizer())\n",
    "    \n",
    "    new_text = ' '.join(text)\n",
    "    return new_text"
   ],
   "outputs": [],
   "metadata": {}
  },
  {
   "cell_type": "code",
   "execution_count": 33,
   "source": [
    "podcasts_df['text'] = podcasts_df['text'].map(preprocess_text)\n",
    "podcasts_df = podcasts_df.query('podcasts_df.text !=\"\"')"
   ],
   "outputs": [],
   "metadata": {}
  },
  {
   "cell_type": "code",
   "execution_count": 10,
   "source": [
    "podcasts_df.head()"
   ],
   "outputs": [
    {
     "output_type": "execute_result",
     "data": {
      "text/html": [
       "<div>\n",
       "<style scoped>\n",
       "    .dataframe tbody tr th:only-of-type {\n",
       "        vertical-align: middle;\n",
       "    }\n",
       "\n",
       "    .dataframe tbody tr th {\n",
       "        vertical-align: top;\n",
       "    }\n",
       "\n",
       "    .dataframe thead th {\n",
       "        text-align: right;\n",
       "    }\n",
       "</style>\n",
       "<table border=\"1\" class=\"dataframe\">\n",
       "  <thead>\n",
       "    <tr style=\"text-align: right;\">\n",
       "      <th></th>\n",
       "      <th>title</th>\n",
       "      <th>producer</th>\n",
       "      <th>text</th>\n",
       "      <th>ID</th>\n",
       "    </tr>\n",
       "  </thead>\n",
       "  <tbody>\n",
       "    <tr>\n",
       "      <th>0</th>\n",
       "      <td>History Hyenas with Chris Distefano and Yannis...</td>\n",
       "      <td>RiotCast Network</td>\n",
       "      <td>[history, hyena, chris, distefano, yannis, pap...</td>\n",
       "      <td>0</td>\n",
       "    </tr>\n",
       "    <tr>\n",
       "      <th>1</th>\n",
       "      <td>Curiosity Daily</td>\n",
       "      <td>Westwood One</td>\n",
       "      <td>[curiosity, daily, westwood, one, education, a...</td>\n",
       "      <td>1</td>\n",
       "    </tr>\n",
       "    <tr>\n",
       "      <th>2</th>\n",
       "      <td>Spirits</td>\n",
       "      <td>Multitude</td>\n",
       "      <td>[spirit, multitude, history, boozy, mythology,...</td>\n",
       "      <td>2</td>\n",
       "    </tr>\n",
       "    <tr>\n",
       "      <th>3</th>\n",
       "      <td>The Soundtrack Show</td>\n",
       "      <td>iHeartRadio</td>\n",
       "      <td>[soundtrack, show, iheartradio, tv, film, soun...</td>\n",
       "      <td>3</td>\n",
       "    </tr>\n",
       "    <tr>\n",
       "      <th>4</th>\n",
       "      <td>Writing Excuses</td>\n",
       "      <td>Brandon Sanderson, Mary Robinette Kowal, Dan W...</td>\n",
       "      <td>[writing, excuse, brandon, sanderson, mary, ko...</td>\n",
       "      <td>4</td>\n",
       "    </tr>\n",
       "  </tbody>\n",
       "</table>\n",
       "</div>"
      ],
      "text/plain": [
       "                                               title  \\\n",
       "0  History Hyenas with Chris Distefano and Yannis...   \n",
       "1                                    Curiosity Daily   \n",
       "2                                            Spirits   \n",
       "3                                The Soundtrack Show   \n",
       "4                                    Writing Excuses   \n",
       "\n",
       "                                            producer  \\\n",
       "0                                   RiotCast Network   \n",
       "1                                       Westwood One   \n",
       "2                                          Multitude   \n",
       "3                                        iHeartRadio   \n",
       "4  Brandon Sanderson, Mary Robinette Kowal, Dan W...   \n",
       "\n",
       "                                                text  ID  \n",
       "0  [history, hyena, chris, distefano, yannis, pap...   0  \n",
       "1  [curiosity, daily, westwood, one, education, a...   1  \n",
       "2  [spirit, multitude, history, boozy, mythology,...   2  \n",
       "3  [soundtrack, show, iheartradio, tv, film, soun...   3  \n",
       "4  [writing, excuse, brandon, sanderson, mary, ko...   4  "
      ]
     },
     "metadata": {},
     "execution_count": 10
    }
   ],
   "metadata": {}
  },
  {
   "cell_type": "markdown",
   "source": [
    "# Podcast Recommenders"
   ],
   "metadata": {}
  },
  {
   "cell_type": "code",
   "execution_count": 17,
   "source": [
    "# helper functions\n",
    "def get_title_from_index(index):\n",
    "    return podcasts_df[podcasts_df.ID == index][\"title\"].values[0]\n",
    "\n",
    "def get_index_from_title(title):\n",
    "    return podcasts_df[podcasts_df.title == title][\"ID\"].values[0]"
   ],
   "outputs": [],
   "metadata": {}
  },
  {
   "cell_type": "code",
   "execution_count": null,
   "source": [
    "def recommend(podcast_title, sim_matrix, number_recs=5):\n",
    "    podcast_id = get_index_from_title(podcast_title)\n",
    "    similar_podcasts =  list(enumerate(sim_matrix[podcast_id]))\n",
    "    sorted_similar_podcast = sorted(similar_podcasts,key=lambda x:x[1],reverse=True)\n",
    "    \n",
    "    recommendations = [get_title_from_index(sorted_similar_podcast[i][0]) for i in range(number_recs+2)]\n",
    "    return recommendations[1:]"
   ],
   "outputs": [],
   "metadata": {}
  },
  {
   "cell_type": "code",
   "execution_count": null,
   "source": [
    "# Podcasts we'll use to validate results\n",
    "sample_podcasts = ['The Daily', \"Murder, etc.\",'This American Life', 'Call Her Daddy', 'The Joe Rogan Experience']\n"
   ],
   "outputs": [],
   "metadata": {}
  },
  {
   "cell_type": "markdown",
   "source": [
    "### Cosine Similarity + CountVectorizer (Bag of Words) Method"
   ],
   "metadata": {}
  },
  {
   "cell_type": "code",
   "execution_count": 18,
   "source": [
    "from sklearn.feature_extraction.text import CountVectorizer\n",
    "from sklearn.metrics.pairwise import cosine_similarity\n",
    "\n",
    "cv = CountVectorizer()\n",
    "cv_matrix = cv.fit_transform(podcasts_df[\"text\"])\n",
    "cv_cosine_sim = cosine_similarity(cv_matrix)"
   ],
   "outputs": [],
   "metadata": {}
  },
  {
   "cell_type": "code",
   "execution_count": 19,
   "source": [
    "for i in sample_podcasts:\n",
    "    print(recommend(i, cv_cosine_sim))"
   ],
   "outputs": [
    {
     "output_type": "stream",
     "name": "stdout",
     "text": [
      "['The Daily', 'Impeachment Inquiry: Updates from The Washington Post', 'Impeachment: A Daily Podcast', 'The Takeaway', 'Article II: Inside Impeachment', \"The Daily 202's Big Idea\", 'The 11th Hour with Brian Williams', 'Bill O’Reilly’s No Spin News and Analysis', 'The Last Word with Lawrence O’Donnell', 'Up First', 'Impeachment Today']\n",
      "\n",
      "['Up First', 'Impeachment: A Daily Podcast', 'Impeachment Inquiry: Updates from The Washington Post', 'The Daily', 'Article II: Inside Impeachment', 'The 11th Hour with Brian Williams', 'Bill O’Reilly’s No Spin News and Analysis', \"The Daily 202's Big Idea\", 'The Takeaway', 'Can He Do That?', 'The Last Word with Lawrence O’Donnell']\n",
      "\n",
      "['VIEWS with David Dobrik and Jason Nash', 'Instant Message', 'I Am In Eskew', 'Jalen & Jacoby', 'The Axe Files with David Axelrod', 'Getting Things Done', 'The Tower', 'The Permaculture Podcast', 'Making It With Jimmy Diresta, Bob Clagett and David Picciuto', 'Psychology of Eating', 'Blank Check with Griffin & David']\n",
      "\n",
      "['Impaulsive with Logan Paul', 'Sexology', 'BEHIND THE SCENES', 'MOONFACE', 'The Tom Woods Show', 'The Flop House', 'The Long Run with Luke Timmerman', 'Heartland Radio 2.0', 'Another Kingdom', 'Curious with Josh Peck', 'Just Roll With It - A Dungeons and Dragons Podcast']\n",
      "\n",
      "['The Bill Simmons Podcast', 'The Rewatchables', 'Book of Basketball 2.0', 'Real Time with Bill Maher', 'The Ringer NFL Show', 'NFL: The Dave Dameshek Football Program', 'Monday Morning Podcast', 'Chris Simms Unbuttoned', 'The Ryen Russillo Podcast', 'The Bill Bert Podcast', 'The GM Shuffle with Michael Lombardi and Adnan Virk']\n",
      "\n",
      "['My Favorite Murder with Karen Kilgariff and Georgia Hardstark', \"Don't Talk to Strangers\", 'Murder Minute', 'Wine & Crime', 'Fresh Hell Podcast', 'Unsolved Murders: True Crime Stories', 'Murder, Myth & Mystery', 'Criminology', 'Jensen and Holes: The Murder Squad', 'Murder, etc.', 'Murder In The Rain']\n",
      "\n",
      "['This American Life', 'History of Japan', 'ED MYLETT SHOW', 'The Toxic People Detox | Self-Care & Difficult People Survival Strategies', 'Meaningful Conversations with Maria Shriver', 'This is the Gospel Podcast', 'The Hidden People', 'Locked Up Abroad', 'For The Love With Jen Hatmaker Podcast', 'The Incomparable Radio Theater', 'The Stacking Benjamins Show']\n",
      "\n",
      "['Joel Osteen Podcast', 'Joel Osteen Podcast', 'Saddleback Church Weekend Messages', 'Daily Grace', 'Marriage After God', 'Love Worth Finding on Oneplace.com', 'All Things Catholic with Dr. Edward Sri', 'Bethel Church Sermon of the Week', 'The Porch', 'Rush: Holy Spirit in Modern Life | A Practical & Prophetic Podcast for Men and Women', \"Don't Mom Alone Podcast\"]\n",
      "\n",
      "['TED Radio Hour', 'The Metaphysical Hour hosted by Julia Cannon', 'TED Talks Art', 'TED Talks Business', 'CarProUSA Radio Show', 'TED Talks Science and Medicine', 'The TED Interview', 'Freakonomics Radio', 'The Creeping Hour', 'TED Talks Society and Culture', 'Zero Hours']\n",
      "\n",
      "['Call Her Daddy', 'Stiff Socks', 'Two Judgey Girls', 'NAKED with Catt Sadler', 'Becoming Something with Jonathan Pokluda', 'Slay Girl Slay', 'Hot Marriage. Cool Parents.', 'Safe For Work', 'The Walynn Collins Show', 'Coffee Convos Podcast with Kail Lowry & Lindsie Chrisley', 'Girl Were You Alone? An *NSYNC Podcast']\n",
      "\n",
      "['Skip and Shannon: Undisputed', 'First Things First', 'Golic and Wingo', 'Speak For Yourself with Whitlock & Wiley', 'The Herd with Colin Cowherd', 'The Odd Couple with Chris Broussard & Rob Parker', 'The Michael Kay Show', 'Joe Benigno and Evan Roberts', 'Pick Six NFL Podcast', 'Pardon My Take', 'The Ringer NFL Show']\n",
      "\n"
     ]
    }
   ],
   "metadata": {}
  },
  {
   "cell_type": "markdown",
   "source": [
    "### Cosine Similarity + TFIDF"
   ],
   "metadata": {}
  },
  {
   "cell_type": "code",
   "execution_count": 20,
   "source": [
    "from sklearn.feature_extraction.text import TfidfVectorizer\n",
    "\n",
    "tf = TfidfVectorizer()\n",
    "tf_matrix = tf.fit_transform(podcasts_df[\"text\"])\n",
    "tf_cosine_sim = cosine_similarity(tf_matrix)"
   ],
   "outputs": [],
   "metadata": {}
  },
  {
   "cell_type": "code",
   "execution_count": 21,
   "source": [
    "for i in sample_podcasts:\n",
    "    print(\"Recommendations for {}: \".format(i))\n",
    "    print(recommend(i, tf_cosine_sim))"
   ],
   "outputs": [
    {
     "output_type": "stream",
     "name": "stdout",
     "text": [
      "['The Daily', 'Impeachment Inquiry: Updates from The Washington Post', \"The Daily 202's Big Idea\", 'The 11th Hour with Brian Williams', 'Article II: Inside Impeachment', 'Impeachment: A Daily Podcast', 'The Takeaway', 'The Last Word with Lawrence O’Donnell', 'Bill O’Reilly’s No Spin News and Analysis', 'The Situation Room with Wolf Blitzer', 'The Rachel Maddow Show']\n",
      "\n",
      "['Up First', 'Impeachment Inquiry: Updates from The Washington Post', 'The Daily', 'Article II: Inside Impeachment', 'The 11th Hour with Brian Williams', 'Impeachment: A Daily Podcast', \"The Daily 202's Big Idea\", 'Can He Do That?', 'The Last Word with Lawrence O’Donnell', 'Bill O’Reilly’s No Spin News and Analysis', 'The Takeaway']\n",
      "\n",
      "['VIEWS with David Dobrik and Jason Nash', 'Instant Message', 'How Did This Get Made?', 'Light The Fight- Parenting Podcast', 'Flow Sessions with Jason Silva', 'This Week in Startups - Audio', 'The Tower', 'True Cold Case Files with Jason and Daisy', 'Horror Hill: A Horror Anthology and Scary Stories Series Podcast', 'Kids Bible Stories', 'Psychology of Eating']\n",
      "\n",
      "['Impaulsive with Logan Paul', 'MOONFACE', 'The Tom Woods Show', 'Sexology', 'The Tim Dillon Show', 'The Long Run with Luke Timmerman', 'Ripper Magoos with Bob Menery', 'Come Follow Me Daily', 'The Flop House', 'Sex Talk With My Mom', 'Below the Belt']\n",
      "\n",
      "['The Bill Simmons Podcast', 'The Rewatchables', 'Book of Basketball 2.0', 'Headlong: Missing Richard Simmons', 'The Ringer NFL Show', 'Real Time with Bill Maher', 'Chris Simms Unbuttoned', 'Speak For Yourself with Whitlock & Wiley', 'The Pat McAfee Show 2.0', 'NFL: The Dave Dameshek Football Program', 'The GM Shuffle with Michael Lombardi and Adnan Virk']\n",
      "\n",
      "['My Favorite Murder with Karen Kilgariff and Georgia Hardstark', 'Do You Need A Ride?', 'Wire Talk with Karen Stubbs', 'The Murder In My Family', 'Murder Minute', 'The Walking Dead ‘Cast', 'Murderous Minors: killer kids', \"Don't Talk to Strangers\", 'Murder, Myth & Mystery', 'Jensen and Holes: The Murder Squad', 'Criminology']\n",
      "\n",
      "['This American Life', 'Experimental Brewing', '1A', 'Through the Looking Glass: A LOST Retrospective', 'BeerSmith Home and Beer Brewing Podcast', 'Talking Beat - from the Portland Police Bureau', 'Haunted Hell House of Horror', 'The Grave Talks | Haunted, Paranormal & Supernatural', 'Sinisterhood', 'Slow Burn', 'Haunted Places']\n",
      "\n",
      "['Joel Osteen Podcast', 'Joel Osteen Podcast', 'Joyce Meyer Ministries TV Podcast', 'Joyce Meyer Enjoying Everyday Life® TV Audio Podcast', 'Marriage After God', 'Daily Grace', 'Fresh Life Church', 'Brilliant Perspectives', 'Bethel Church Sermon of the Week', 'Saddleback Church Weekend Messages', 'Pastor Robert Morris Ministries on Oneplace.com']\n",
      "\n",
      "['TED Radio Hour', 'The TED Interview', 'TED Talks Art', 'TED Talks Science and Medicine', 'TED Talks Business', \"Hunted: Inside Ted Bundy's Trail of Terror\", 'TED Talks Society and Culture', 'TED Talks Education', 'TED Talks Daily (HD video)', 'TED Talks Daily (SD video)', 'TED Talks Music']\n",
      "\n",
      "['Call Her Daddy', 'hey, girl.', 'Becoming Something with Jonathan Pokluda', 'Fierce Girls', 'Stiff Socks', 'Girls Night with Stephanie May Wilson', 'Grammar Girl Quick and Dirty Tips for Better Writing', 'Two Judgey Girls', 'The Clever Girls Know Podcast', 'Quarter Life Crisis', 'Slay Girl Slay']\n",
      "\n",
      "['Skip and Shannon: Undisputed', 'First Things First', 'Golic and Wingo', 'Speak For Yourself with Whitlock & Wiley', 'The Herd with Colin Cowherd', 'The Odd Couple with Chris Broussard & Rob Parker', 'Pick Six NFL Podcast', 'First Take', 'Pardon My Take', 'Chris Simms Unbuttoned', 'Pro Football Talk Live with Mike Florio']\n",
      "\n"
     ]
    }
   ],
   "metadata": {}
  }
 ],
 "metadata": {
  "kernelspec": {
   "name": "python3",
   "display_name": "Python 3.8.8 64-bit ('base': conda)"
  },
  "language_info": {
   "codemirror_mode": {
    "name": "ipython",
    "version": 3
   },
   "file_extension": ".py",
   "mimetype": "text/x-python",
   "name": "python",
   "nbconvert_exporter": "python",
   "pygments_lexer": "ipython3",
   "version": "3.8.8"
  },
  "interpreter": {
   "hash": "dca0ade3e726a953b501b15e8e990130d2b7799f14cfd9f4271676035ebe5511"
  }
 },
 "nbformat": 4,
 "nbformat_minor": 2
}